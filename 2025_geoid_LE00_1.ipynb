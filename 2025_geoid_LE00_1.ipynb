{
  "nbformat": 4,
  "nbformat_minor": 0,
  "metadata": {
    "colab": {
      "provenance": [],
      "authorship_tag": "ABX9TyNgE7uHA2PqomlG7VjLJVjg"
    },
    "kernelspec": {
      "name": "python3",
      "display_name": "Python 3"
    },
    "language_info": {
      "name": "python"
    }
  },
  "cells": [
    {
      "cell_type": "markdown",
      "source": [
        "The notebook presents three models for digit recognition.\n",
        "\n",
        "*   A fully-connected network\n",
        "*   A convolutional neural network\n",
        "*   A graph neural network\n",
        "\n",
        "It was compiled from different sources. See for example, https://github.com/bknyaz/examples/blob/master/fc_vs_graph_train.py and https://github.com/DebasmitaGhose/PyTorch_Graph_Neural_Network_MNIST for more details"
      ],
      "metadata": {
        "id": "QqfyWlD9GdzR"
      }
    },
    {
      "cell_type": "code",
      "source": [
        "import torch\n",
        "import torch.nn as nn\n",
        "import torch.nn.functional as F\n",
        "import torch.optim as optim\n",
        "import matplotlib.pyplot as plt\n",
        "\n",
        "import numpy as np\n",
        "from scipy.spatial.distance import cdist"
      ],
      "metadata": {
        "id": "PrSB56NNlXve"
      },
      "execution_count": null,
      "outputs": []
    },
    {
      "cell_type": "code",
      "source": [
        "import argparse\n",
        "\n",
        "parser = argparse.ArgumentParser(description='PyTorch MNIST Example')\n",
        "\n",
        "parser.add_argument('--model', type=str, default='graph', choices=['fc', 'graph', 'conv'],\n",
        "                    help='model to use for training (default: fc)')\n",
        "parser.add_argument('--batch-size', type=int, default=64,\n",
        "                    help='input batch size for training (default: 64)')\n",
        "parser.add_argument('--test-batch-size', type=int, default=1000,\n",
        "                    help='input batch size for testing (default: 1000)')\n",
        "parser.add_argument('--epochs', type=int, default=10,\n",
        "                    help='number of epochs to train (default: 10)')\n",
        "parser.add_argument('--lr', type=float, default=0.001,\n",
        "                    help='learning rate (default: 0.001)')\n",
        "parser.add_argument('--pred_edge', action='store_true', default=False,\n",
        "                    help='predict edges instead of using predefined ones')\n",
        "parser.add_argument('--seed', type=int, default=1,\n",
        "                    help='random seed (default: 1)')\n",
        "parser.add_argument('--log-interval', type=int, default=200,\n",
        "                    help='how many batches to wait before logging training status')\n",
        "parser.add_argument('--save-model', action='store_true', default=True,\n",
        "                    help='to save the current model')\n",
        "\n",
        "device = torch.device('cuda' if torch.cuda.is_available() else 'cpu')\n",
        "print(device)\n",
        "\n",
        "args = parser.parse_args(args=[]) # https://stackoverflow.com/a/76397269\n",
        "\n",
        "\n",
        "'''\n",
        "try:\n",
        "    args = parser.parse_args()\n",
        "except SystemExit:\n",
        "    # Provide default values if parse_args fails\n",
        "    args = argparse.Namespace(model='graph', batch_size=64, test_batch_size=1000,\n",
        "                              epochs=10, lr=0.001, pred_edge=False, seed=1,\n",
        "                              log_interval=200)\n",
        "'''\n",
        "\n",
        "print(args)"
      ],
      "metadata": {
        "colab": {
          "base_uri": "https://localhost:8080/"
        },
        "id": "AJvV3hdJqjgJ",
        "outputId": "e5db05b7-c0de-4513-d9bb-55f4f09b432e"
      },
      "execution_count": null,
      "outputs": [
        {
          "output_type": "stream",
          "name": "stdout",
          "text": [
            "cpu\n",
            "Namespace(model='graph', batch_size=64, test_batch_size=1000, epochs=10, lr=0.001, pred_edge=False, seed=1, log_interval=200, save_model=True)\n"
          ]
        }
      ]
    },
    {
      "cell_type": "markdown",
      "source": [
        "# Dataset"
      ],
      "metadata": {
        "id": "NqJtAHS9vQV2"
      }
    },
    {
      "cell_type": "code",
      "source": [
        "from torchvision import datasets, transforms\n",
        "\n",
        "train_loader = torch.utils.data.DataLoader(\n",
        "    datasets.MNIST('/content', train=True, download=True,\n",
        "                    transform=transforms.Compose([\n",
        "                        transforms.ToTensor(),\n",
        "                        transforms.Normalize((0.1307,), (0.3081,))\n",
        "                    ])), batch_size=args.batch_size, shuffle=True)\n",
        "\n",
        "test_loader = torch.utils.data.DataLoader(\n",
        "        datasets.MNIST('/content', train=False, transform=transforms.Compose([\n",
        "            transforms.ToTensor(),\n",
        "            transforms.Normalize((0.1307,), (0.3081,))\n",
        "        ])),\n",
        "        batch_size=args.test_batch_size, shuffle=False)"
      ],
      "metadata": {
        "colab": {
          "base_uri": "https://localhost:8080/"
        },
        "id": "0dMsPKTXJzQL",
        "outputId": "75bd544b-af9d-408a-b409-efb91ebfa682"
      },
      "execution_count": null,
      "outputs": [
        {
          "output_type": "stream",
          "name": "stderr",
          "text": [
            "100%|██████████| 9.91M/9.91M [00:00<00:00, 38.2MB/s]\n",
            "100%|██████████| 28.9k/28.9k [00:00<00:00, 1.22MB/s]\n",
            "100%|██████████| 1.65M/1.65M [00:00<00:00, 10.3MB/s]\n",
            "100%|██████████| 4.54k/4.54k [00:00<00:00, 4.66MB/s]\n"
          ]
        }
      ]
    },
    {
      "cell_type": "code",
      "source": [
        "from mpl_toolkits.axes_grid1 import ImageGrid\n",
        "\n",
        "dataiter = iter(train_loader)\n",
        "batch = next(dataiter)\n",
        "target_images = batch[0]\n",
        "\n",
        "num_samples = 9\n",
        "sample_images = [target_images[i,0] for i in range(num_samples)]\n",
        "\n",
        "fig = plt.figure(figsize=(6, 6))\n",
        "grid = ImageGrid(fig, 111, nrows_ncols=(3, 3), axes_pad=0.1)\n",
        "\n",
        "for ax, im in zip(grid, sample_images):\n",
        "    #print(im.shape)\n",
        "    ax.imshow(im, cmap='gray')\n",
        "    ax.axis('off')\n",
        "\n",
        "plt.show()"
      ],
      "metadata": {
        "colab": {
          "base_uri": "https://localhost:8080/",
          "height": 499
        },
        "id": "-ky3bIKAmRP_",
        "outputId": "cb93f034-95f6-49b5-848e-377b6eefbb64"
      },
      "execution_count": null,
      "outputs": [
        {
          "output_type": "display_data",
          "data": {
            "text/plain": [
              "<Figure size 600x600 with 18 Axes>"
            ],
            "image/png": "[encoded data removed]"
          },
          "metadata": {}
        }
      ]
    },
    {
      "cell_type": "code",
      "source": [
        "target_images.size()"
      ],
      "metadata": {
        "colab": {
          "base_uri": "https://localhost:8080/"
        },
        "id": "bbScAF-bpa22",
        "outputId": "401eb907-92bd-4a8e-94c8-6a30a1bc1d3c"
      },
      "execution_count": null,
      "outputs": [
        {
          "output_type": "execute_result",
          "data": {
            "text/plain": [
              "torch.Size([64, 1, 28, 28])"
            ]
          },
          "metadata": {},
          "execution_count": 44
        }
      ]
    },
    {
      "cell_type": "code",
      "source": [
        "print(sample_images[0].shape)\n",
        "\n",
        "img = sample_images[0]\n",
        "imgplot = plt.imshow(img)"
      ],
      "metadata": {
        "colab": {
          "base_uri": "https://localhost:8080/",
          "height": 447
        },
        "id": "-c6fN6H3Lcdb",
        "outputId": "3033c8ea-4b90-4bff-dd1f-2ad4f8317d7f"
      },
      "execution_count": null,
      "outputs": [
        {
          "output_type": "stream",
          "name": "stdout",
          "text": [
            "torch.Size([28, 28])\n"
          ]
        },
        {
          "output_type": "display_data",
          "data": {
            "text/plain": [
              "<Figure size 640x480 with 1 Axes>"
            ],
            "image/png": "[encoded data removed]"
          },
          "metadata": {}
        }
      ]
    },
    {
      "cell_type": "markdown",
      "source": [
        "Below are some cells to enable a detailed exploration of some portions of the code"
      ],
      "metadata": {
        "id": "5PGFRR54ai0D"
      }
    },
    {
      "cell_type": "code",
      "source": [
        "B = img.size(0)\n",
        "B"
      ],
      "metadata": {
        "colab": {
          "base_uri": "https://localhost:8080/"
        },
        "id": "XYtaK21oOefC",
        "outputId": "6f9af886-d7ac-431a-d7d7-940b27b02db5"
      },
      "execution_count": null,
      "outputs": [
        {
          "output_type": "execute_result",
          "data": {
            "text/plain": [
              "28"
            ]
          },
          "metadata": {},
          "execution_count": 46
        }
      ]
    },
    {
      "cell_type": "code",
      "source": [
        "N = B ** 2\n",
        "N"
      ],
      "metadata": {
        "colab": {
          "base_uri": "https://localhost:8080/"
        },
        "id": "d7OouzIkPtIK",
        "outputId": "2940a0c5-6b86-467b-bd60-b790bf61aeac"
      },
      "execution_count": null,
      "outputs": [
        {
          "output_type": "execute_result",
          "data": {
            "text/plain": [
              "784"
            ]
          },
          "metadata": {},
          "execution_count": 47
        }
      ]
    },
    {
      "cell_type": "code",
      "source": [
        "print(img)"
      ],
      "metadata": {
        "id": "f95QW3p6G7Cs"
      },
      "execution_count": null,
      "outputs": []
    },
    {
      "cell_type": "code",
      "source": [
        "img.shape"
      ],
      "metadata": {
        "colab": {
          "base_uri": "https://localhost:8080/"
        },
        "id": "wyqRdxqBHEZi",
        "outputId": "abe8f9d9-cafe-42c7-bf63-6876c69addc0"
      },
      "execution_count": null,
      "outputs": [
        {
          "output_type": "execute_result",
          "data": {
            "text/plain": [
              "torch.Size([28, 28])"
            ]
          },
          "metadata": {},
          "execution_count": 53
        }
      ]
    },
    {
      "cell_type": "code",
      "source": [
        "print(img.view(img.size(0), -1))"
      ],
      "metadata": {
        "id": "92bWwK3UG0KJ"
      },
      "execution_count": null,
      "outputs": []
    },
    {
      "cell_type": "code",
      "source": [
        "u = 3\n",
        "print(np.arange(u))\n",
        "print(np.meshgrid(np.arange(u), np.arange(u)))\n",
        "col, row = np.meshgrid(np.arange(u), np.arange(u))\n",
        "print(col)\n",
        "print(row)\n",
        "plt.plot(col, row, marker='o', color='k', linestyle='none')\n",
        "plt.show()\n",
        "coord = np.stack((col, row), axis=2).reshape(-1, 2)\n",
        "print(coord)"
      ],
      "metadata": {
        "id": "pUasmQkaQeLG"
      },
      "execution_count": null,
      "outputs": []
    },
    {
      "cell_type": "code",
      "source": [
        "import imageio  # to save GIFs\n",
        "import matplotlib as mpl\n",
        "import cv2\n",
        "\n",
        "img_size = 28\n",
        "col, row = np.meshgrid(np.arange(img_size), np.arange(img_size))\n",
        "coord = np.stack((col, row), axis=2).reshape(-1, 2) / img_size\n",
        "dist = cdist(coord, coord)  # see figure below on the left\n",
        "sigma = 0.2 * np.pi  # width of a Gaussian\n",
        "A = np.exp(- dist ** 2 / sigma ** 2)  # see figure below in the middle\n",
        "\n",
        "print(A, A.shape)\n",
        "plt.plot(dist)\n",
        "plt.show()\n",
        "\n",
        "scale = 4\n",
        "img_list = []\n",
        "cmap = mpl.cm.get_cmap('viridis')\n",
        "for i in np.arange(0, img_size, 4):  # for every row with step 4\n",
        "    for j in np.arange(0, img_size, 4):  # for every col with step 4\n",
        "        k = i*img_size + j\n",
        "        img = A[k, :].reshape(img_size, img_size)\n",
        "        img = (img - img.min()) / (img.max() - img.min())\n",
        "        img = cmap(img)\n",
        "        img[i, j] = np.array([1., 0, 0, 0])  # add the red dot\n",
        "        img = cv2.resize(img, (img_size*scale, img_size*scale))\n",
        "        img_list.append((img * 255).astype(np.uint8))\n",
        "imageio.mimsave('filter.gif', img_list, format='GIF', duration=0.2)\n",
        "#coord = (coord - np.mean(coord, axis=0)) / (np.std(coord, axis=0) + 1e-5)\n",
        "#coord = torch.from_numpy(coord).float()  # 784,2\n",
        "#coord = torch.cat((coord.unsqueeze(0).repeat(N, 1,  1), coord.unsqueeze(1).repeat(1, N, 1)), dim=2)"
      ],
      "metadata": {
        "id": "dSoCNRvgQQ9r"
      },
      "execution_count": null,
      "outputs": []
    },
    {
      "cell_type": "markdown",
      "source": [
        "# Models"
      ],
      "metadata": {
        "id": "bgZ2ov-ovSOf"
      }
    },
    {
      "cell_type": "code",
      "source": [
        "class LinearNet(nn.Module):\n",
        "    def __init__(self, input_size=784, num_classes=10):\n",
        "        super(LinearNet, self).__init__()\n",
        "        #self.fc = nn.Linear(784, 10, bias=False)\n",
        "        self.layer1 = nn.Linear(input_size, num_classes)\n",
        "        #self.relu = nn.ReLU()\n",
        "        #self.layer2 = nn.Linear(hidden_size, num_classes)\n",
        "\n",
        "    def forward(self, x):\n",
        "        output = self.layer1(x)\n",
        "        #output = self.relu(output)\n",
        "        #output = self.layer2(output)\n",
        "        return output\n",
        "        #return self.fc(x.view(x.size(0), -1))"
      ],
      "metadata": {
        "id": "NZVB7JS4vbyl"
      },
      "execution_count": null,
      "outputs": []
    },
    {
      "cell_type": "code",
      "source": [
        "# https://github.com/pytorch/examples/blob/main/mnist/main.py\n",
        "class ConvNet(nn.Module):\n",
        "    def __init__(self):\n",
        "        super(ConvNet, self).__init__()\n",
        "        self.conv = nn.Conv2d(1, 10, 28, stride=1, padding=14)\n",
        "        self.fc = nn.Linear(4 * 4 * 10, 10, bias=False)\n",
        "\n",
        "    def forward(self, x):\n",
        "        x = F.relu(self.conv(x))\n",
        "        x = F.max_pool2d(x, 7)\n",
        "        return self.fc(x.view(x.size(0), -1))"
      ],
      "metadata": {
        "id": "zwjmjL_bvji6"
      },
      "execution_count": null,
      "outputs": []
    },
    {
      "cell_type": "code",
      "source": [
        "class GraphNet(nn.Module):\n",
        "    def __init__(self, img_size=28, pred_edge=False):\n",
        "        super(GraphNet, self).__init__()\n",
        "        self.pred_edge = pred_edge\n",
        "        N = img_size * img_size\n",
        "        self.fc = nn.Linear(N, 10, bias=False)\n",
        "        if pred_edge:\n",
        "            col, row = np.meshgrid(np.arange(img_size), np.arange(img_size))\n",
        "            coord = np.stack((col, row), axis=2).reshape(-1, 2)\n",
        "            coord = (coord - np.mean(coord, axis=0)) / (np.std(coord, axis=0) + 1e-5)\n",
        "            coord = torch.from_numpy(coord).float()  # 784,2\n",
        "            coord = torch.cat((coord.unsqueeze(0).repeat(N, 1,  1),\n",
        "                                    coord.unsqueeze(1).repeat(1, N, 1)), dim=2)\n",
        "            #coord = torch.abs(coord[:, :, [0, 1]] - coord[:, :, [2, 3]])\n",
        "            self.pred_edge_fc = nn.Sequential(nn.Linear(4, 64),\n",
        "                                              nn.ReLU(),\n",
        "                                              nn.Linear(64, 1),\n",
        "                                              nn.Tanh())\n",
        "            self.register_buffer('coord', coord)\n",
        "        else:\n",
        "            # precompute adjacency matrix before training\n",
        "            A = self.precompute_adjacency_images(img_size)\n",
        "            self.register_buffer('A', A)\n",
        "\n",
        "\n",
        "    @staticmethod\n",
        "    def precompute_adjacency_images(img_size):\n",
        "        col, row = np.meshgrid(np.arange(img_size), np.arange(img_size))\n",
        "        coord = np.stack((col, row), axis=2).reshape(-1, 2) / img_size\n",
        "        dist = cdist(coord, coord)\n",
        "        sigma = 0.05 * np.pi\n",
        "\n",
        "        # Below, I forgot to square dist to make it a Gaussian (not sure how important it can be for final results)\n",
        "        A = np.exp(- dist / sigma ** 2)\n",
        "        print('WARNING: try squaring the dist to make it a Gaussian')\n",
        "\n",
        "        A[A < 0.01] = 0\n",
        "        A = torch.from_numpy(A).float()\n",
        "\n",
        "        # Normalization as per (Kipf & Welling, ICLR 2017)\n",
        "        D = A.sum(1)  # nodes degree (N,)\n",
        "        D_hat = (D + 1e-5) ** (-0.5)\n",
        "        A_hat = D_hat.view(-1, 1) * A * D_hat.view(1, -1)  # N,N\n",
        "\n",
        "        # Some additional trick I found to be useful\n",
        "        A_hat[A_hat > 0.0001] = A_hat[A_hat > 0.0001] - 0.2\n",
        "\n",
        "        #print(A_hat[:10, :10])\n",
        "        return A_hat\n",
        "\n",
        "    def forward(self, x):\n",
        "        B = x.size(0)\n",
        "        if self.pred_edge:\n",
        "            self.A = self.pred_edge_fc(self.coord).squeeze()\n",
        "\n",
        "        avg_neighbor_features = (torch.bmm(self.A.unsqueeze(0).expand(B, -1, -1),\n",
        "                                 x.view(B, -1, 1)).view(B, -1))\n",
        "        return self.fc(avg_neighbor_features)"
      ],
      "metadata": {
        "id": "g13jJCN9vuAz"
      },
      "execution_count": null,
      "outputs": []
    },
    {
      "cell_type": "markdown",
      "source": [
        "# Training"
      ],
      "metadata": {
        "id": "adFCxEt74ZYq"
      }
    },
    {
      "cell_type": "code",
      "source": [
        "def train(args, model, device, train_loader, optimizer, epoch):\n",
        "    model.train()\n",
        "    for batch_idx, (data, target) in enumerate(train_loader):\n",
        "        data, target = data.to(device), target.to(device)\n",
        "        optimizer.zero_grad()\n",
        "        output = model(data)\n",
        "        loss = F.cross_entropy(output, target)\n",
        "        loss.backward()\n",
        "        optimizer.step()\n",
        "        if batch_idx % args.log_interval == 0:\n",
        "            print('Train Epoch: {} [{}/{} ({:.0f}%)]\\tLoss: {:.6f}'.format(\n",
        "                epoch, batch_idx * len(data), len(train_loader.dataset),\n",
        "                       100. * batch_idx / len(train_loader), loss.item()))\n",
        "    if args.save_model:\n",
        "        path = \"my_mnist_model_\"+args.model+\".pt\"\n",
        "        torch.save(model.state_dict(), path)\n",
        "\n",
        "def test(args, model, device, test_loader):\n",
        "    model.eval()\n",
        "    test_loss = 0\n",
        "    correct = 0\n",
        "    with torch.no_grad():\n",
        "        for data, target in test_loader:\n",
        "            data, target = data.to(device), target.to(device)\n",
        "            output = model(data)\n",
        "            test_loss += F.cross_entropy(output, target, reduction='sum').item()\n",
        "            pred = output.argmax(dim=1, keepdim=True)\n",
        "            correct += pred.eq(target.view_as(pred)).sum().item()\n",
        "\n",
        "    test_loss /= len(test_loader.dataset)\n",
        "\n",
        "    print(\n",
        "        '\\nTest set: Average loss: {:.4f}, Accuracy: {}/{} ({:.0f}%)\\n'.format(\n",
        "            test_loss, correct, len(test_loader.dataset),\n",
        "            100. * correct / len(test_loader.dataset)))"
      ],
      "metadata": {
        "id": "jb7917cQ8lOJ"
      },
      "execution_count": null,
      "outputs": []
    },
    {
      "cell_type": "code",
      "source": [
        "if args.model == 'fc':\n",
        "    assert not args.pred_edge, \"this flag is meant for graphs\"\n",
        "    model = LinearNet()\n",
        "elif args.model == 'graph':\n",
        "    model = GraphNet(pred_edge=args.pred_edge)\n",
        "elif args.model == 'conv':\n",
        "    model = ConvNet()\n",
        "else:\n",
        "    raise NotImplementedError(args.model)\n",
        "model.to(device)\n",
        "print(model)\n",
        "optimizer = optim.SGD(model.parameters(), lr=args.lr, weight_decay=1e-1 if args.model == 'conv' else 1e-4)\n",
        "print('number of trainable parameters: %d' %\n",
        "      np.sum([np.prod(p.size()) if p.requires_grad else 0 for p in model.parameters()]))\n",
        "\n",
        "for epoch in range(1, args.epochs + 1):\n",
        "    train(args, model, device, train_loader, optimizer, epoch)\n",
        "    test(args, model, device, test_loader)"
      ],
      "metadata": {
        "colab": {
          "base_uri": "https://localhost:8080/"
        },
        "id": "QbUXfsQf8YvR",
        "outputId": "9806950e-5419-4ce6-fb20-07209395f127"
      },
      "execution_count": null,
      "outputs": [
        {
          "output_type": "stream",
          "name": "stdout",
          "text": [
            "WARNING: try squaring the dist to make it a Gaussian\n",
            "GraphNet(\n",
            "  (fc): Linear(in_features=784, out_features=10, bias=False)\n",
            ")\n",
            "number of trainable parameters: 7840\n",
            "Train Epoch: 1 [0/60000 (0%)]\tLoss: 3.142399\n",
            "Train Epoch: 1 [12800/60000 (21%)]\tLoss: 0.494557\n",
            "Train Epoch: 1 [25600/60000 (43%)]\tLoss: 0.287027\n",
            "Train Epoch: 1 [38400/60000 (64%)]\tLoss: 0.630468\n",
            "Train Epoch: 1 [51200/60000 (85%)]\tLoss: 0.455204\n",
            "\n",
            "Test set: Average loss: 0.3861, Accuracy: 8854/10000 (89%)\n",
            "\n",
            "Train Epoch: 2 [0/60000 (0%)]\tLoss: 0.468961\n",
            "Train Epoch: 2 [12800/60000 (21%)]\tLoss: 0.286332\n",
            "Train Epoch: 2 [25600/60000 (43%)]\tLoss: 0.262297\n",
            "Train Epoch: 2 [38400/60000 (64%)]\tLoss: 0.360496\n",
            "Train Epoch: 2 [51200/60000 (85%)]\tLoss: 0.304889\n",
            "\n",
            "Test set: Average loss: 0.3472, Accuracy: 8991/10000 (90%)\n",
            "\n",
            "Train Epoch: 3 [0/60000 (0%)]\tLoss: 0.277235\n",
            "Train Epoch: 3 [12800/60000 (21%)]\tLoss: 0.294683\n",
            "Train Epoch: 3 [25600/60000 (43%)]\tLoss: 0.304465\n",
            "Train Epoch: 3 [38400/60000 (64%)]\tLoss: 0.249169\n",
            "Train Epoch: 3 [51200/60000 (85%)]\tLoss: 0.315438\n",
            "\n",
            "Test set: Average loss: 0.3359, Accuracy: 9041/10000 (90%)\n",
            "\n",
            "Train Epoch: 4 [0/60000 (0%)]\tLoss: 0.603889\n",
            "Train Epoch: 4 [12800/60000 (21%)]\tLoss: 0.316661\n",
            "Train Epoch: 4 [25600/60000 (43%)]\tLoss: 0.249460\n",
            "Train Epoch: 4 [38400/60000 (64%)]\tLoss: 0.175807\n",
            "Train Epoch: 4 [51200/60000 (85%)]\tLoss: 0.387987\n",
            "\n",
            "Test set: Average loss: 0.3352, Accuracy: 9012/10000 (90%)\n",
            "\n",
            "Train Epoch: 5 [0/60000 (0%)]\tLoss: 0.304118\n",
            "Train Epoch: 5 [12800/60000 (21%)]\tLoss: 0.348879\n",
            "Train Epoch: 5 [25600/60000 (43%)]\tLoss: 0.412609\n",
            "Train Epoch: 5 [38400/60000 (64%)]\tLoss: 0.359346\n",
            "Train Epoch: 5 [51200/60000 (85%)]\tLoss: 0.346390\n",
            "\n",
            "Test set: Average loss: 0.3220, Accuracy: 9065/10000 (91%)\n",
            "\n",
            "Train Epoch: 6 [0/60000 (0%)]\tLoss: 0.306521\n",
            "Train Epoch: 6 [12800/60000 (21%)]\tLoss: 0.150074\n",
            "Train Epoch: 6 [25600/60000 (43%)]\tLoss: 0.473169\n",
            "Train Epoch: 6 [38400/60000 (64%)]\tLoss: 0.386159\n",
            "Train Epoch: 6 [51200/60000 (85%)]\tLoss: 0.444349\n",
            "\n",
            "Test set: Average loss: 0.3202, Accuracy: 9063/10000 (91%)\n",
            "\n",
            "Train Epoch: 7 [0/60000 (0%)]\tLoss: 0.262304\n",
            "Train Epoch: 7 [12800/60000 (21%)]\tLoss: 0.215776\n",
            "Train Epoch: 7 [25600/60000 (43%)]\tLoss: 0.400240\n",
            "Train Epoch: 7 [38400/60000 (64%)]\tLoss: 0.389840\n",
            "Train Epoch: 7 [51200/60000 (85%)]\tLoss: 0.219712\n",
            "\n",
            "Test set: Average loss: 0.3202, Accuracy: 9070/10000 (91%)\n",
            "\n",
            "Train Epoch: 8 [0/60000 (0%)]\tLoss: 0.273069\n",
            "Train Epoch: 8 [12800/60000 (21%)]\tLoss: 0.360632\n",
            "Train Epoch: 8 [25600/60000 (43%)]\tLoss: 0.280373\n",
            "Train Epoch: 8 [38400/60000 (64%)]\tLoss: 0.181701\n",
            "Train Epoch: 8 [51200/60000 (85%)]\tLoss: 0.276287\n",
            "\n",
            "Test set: Average loss: 0.3106, Accuracy: 9093/10000 (91%)\n",
            "\n",
            "Train Epoch: 9 [0/60000 (0%)]\tLoss: 0.314224\n",
            "Train Epoch: 9 [12800/60000 (21%)]\tLoss: 0.310366\n",
            "Train Epoch: 9 [25600/60000 (43%)]\tLoss: 0.126421\n",
            "Train Epoch: 9 [38400/60000 (64%)]\tLoss: 0.384036\n",
            "Train Epoch: 9 [51200/60000 (85%)]\tLoss: 0.248222\n",
            "\n",
            "Test set: Average loss: 0.3135, Accuracy: 9093/10000 (91%)\n",
            "\n",
            "Train Epoch: 10 [0/60000 (0%)]\tLoss: 0.311009\n",
            "Train Epoch: 10 [12800/60000 (21%)]\tLoss: 0.453916\n",
            "Train Epoch: 10 [25600/60000 (43%)]\tLoss: 0.228921\n",
            "Train Epoch: 10 [38400/60000 (64%)]\tLoss: 0.279726\n",
            "Train Epoch: 10 [51200/60000 (85%)]\tLoss: 0.411125\n",
            "\n",
            "Test set: Average loss: 0.3128, Accuracy: 9073/10000 (91%)\n",
            "\n"
          ]
        }
      ]
    },
    {
      "cell_type": "markdown",
      "source": [
        "# Testing"
      ],
      "metadata": {
        "id": "cVgOMUsDkSih"
      }
    },
    {
      "cell_type": "code",
      "source": [
        "examples = enumerate(test_loader)\n",
        "batch_idx, (example_data, example_targets) = next(examples)\n",
        "output = model(example_data)\n",
        "\n",
        "#fig = plt.figure()\n",
        "for i in range(6):\n",
        "  plt.subplot(1,6,i+1)\n",
        "  plt.tight_layout()\n",
        "  plt.imshow(example_data[i][0], cmap='gray', interpolation='none')\n",
        "  plt.title(\"Prediction: {}\".format(output.data.max(1, keepdim=True)[1][i].item()))\n",
        "  plt.xticks([])\n",
        "  plt.yticks([])\n",
        "#fig"
      ],
      "metadata": {
        "colab": {
          "base_uri": "https://localhost:8080/",
          "height": 121
        },
        "id": "rjx5tcZ7K5Fo",
        "outputId": "a1456d3e-936e-4a98-bc6c-cce73627d75a"
      },
      "execution_count": null,
      "outputs": [
        {
          "output_type": "display_data",
          "data": {
            "text/plain": [
              "<Figure size 640x480 with 6 Axes>"
            ],
            "image/png": "[encoded data removed]"
          },
          "metadata": {}
        }
      ]
    }
  ]
}