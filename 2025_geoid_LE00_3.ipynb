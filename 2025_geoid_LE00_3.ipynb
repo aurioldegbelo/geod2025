{
  "nbformat": 4,
  "nbformat_minor": 0,
  "metadata": {
    "colab": {
      "provenance": [],
      "authorship_tag": "ABX9TyNGp7HLJs6MTjPuBhIcdQ5n"
    },
    "kernelspec": {
      "name": "python3",
      "display_name": "Python 3"
    },
    "language_info": {
      "name": "python"
    }
  },
  "cells": [
    {
      "cell_type": "markdown",
      "source": [
        "This notebook brings the different components of the applications together\n",
        "\n",
        "\n",
        "*   Digit recognition (predictive AI)\n",
        "*   Results' ouput as text (generative AI)\n",
        "*   Results' output as coordinate + temperature (generative AI - agent+tools)\n",
        "*   Results' output as map (geographic information systems)"
      ],
      "metadata": {
        "id": "Xdf4FmswxAlF"
      }
    },
    {
      "cell_type": "markdown",
      "source": [
        "# Chapter 1: Application"
      ],
      "metadata": {
        "id": "jekMKVjPkipk"
      }
    },
    {
      "cell_type": "code",
      "source": [
        "!pip install -qU langchain langgraph langsmith langchain-openai langchain_community pyowm"
      ],
      "metadata": {
        "id": "BOdqmweghj3L",
        "colab": {
          "base_uri": "https://localhost:8080/"
        },
        "outputId": "dc7f94a9-c202-4d5e-ffd1-df2c5a5c46a9"
      },
      "execution_count": null,
      "outputs": [
        {
          "output_type": "stream",
          "name": "stdout",
          "text": [
            "\u001b[2K     \u001b[90m━━━━━━━━━━━━━━━━━━━━━━━━━━━━━━━━━━━━━━━━\u001b[0m \u001b[32m43.5/43.5 kB\u001b[0m \u001b[31m1.6 MB/s\u001b[0m eta \u001b[36m0:00:00\u001b[0m\n",
            "\u001b[2K   \u001b[90m━━━━━━━━━━━━━━━━━━━━━━━━━━━━━━━━━━━━━━━━\u001b[0m \u001b[32m148.2/148.2 kB\u001b[0m \u001b[31m7.4 MB/s\u001b[0m eta \u001b[36m0:00:00\u001b[0m\n",
            "\u001b[2K   \u001b[90m━━━━━━━━━━━━━━━━━━━━━━━━━━━━━━━━━━━━━━━━\u001b[0m \u001b[32m358.9/358.9 kB\u001b[0m \u001b[31m6.1 MB/s\u001b[0m eta \u001b[36m0:00:00\u001b[0m\n",
            "\u001b[2K   \u001b[90m━━━━━━━━━━━━━━━━━━━━━━━━━━━━━━━━━━━━━━━━\u001b[0m \u001b[32m62.4/62.4 kB\u001b[0m \u001b[31m3.5 MB/s\u001b[0m eta \u001b[36m0:00:00\u001b[0m\n",
            "\u001b[2K   \u001b[90m━━━━━━━━━━━━━━━━━━━━━━━━━━━━━━━━━━━━━━━━\u001b[0m \u001b[32m2.5/2.5 MB\u001b[0m \u001b[31m52.3 MB/s\u001b[0m eta \u001b[36m0:00:00\u001b[0m\n",
            "\u001b[2K   \u001b[90m━━━━━━━━━━━━━━━━━━━━━━━━━━━━━━━━━━━━━━━━\u001b[0m \u001b[32m4.5/4.5 MB\u001b[0m \u001b[31m35.3 MB/s\u001b[0m eta \u001b[36m0:00:00\u001b[0m\n",
            "\u001b[2K   \u001b[90m━━━━━━━━━━━━━━━━━━━━━━━━━━━━━━━━━━━━━━━━\u001b[0m \u001b[32m42.0/42.0 kB\u001b[0m \u001b[31m2.0 MB/s\u001b[0m eta \u001b[36m0:00:00\u001b[0m\n",
            "\u001b[2K   \u001b[90m━━━━━━━━━━━━━━━━━━━━━━━━━━━━━━━━━━━━━━━━\u001b[0m \u001b[32m47.3/47.3 kB\u001b[0m \u001b[31m3.1 MB/s\u001b[0m eta \u001b[36m0:00:00\u001b[0m\n",
            "\u001b[2K   \u001b[90m━━━━━━━━━━━━━━━━━━━━━━━━━━━━━━━━━━━━━━━━\u001b[0m \u001b[32m44.4/44.4 kB\u001b[0m \u001b[31m2.7 MB/s\u001b[0m eta \u001b[36m0:00:00\u001b[0m\n",
            "\u001b[2K   \u001b[90m━━━━━━━━━━━━━━━━━━━━━━━━━━━━━━━━━━━━━━━━\u001b[0m \u001b[32m1.2/1.2 MB\u001b[0m \u001b[31m41.2 MB/s\u001b[0m eta \u001b[36m0:00:00\u001b[0m\n",
            "\u001b[2K   \u001b[90m━━━━━━━━━━━━━━━━━━━━━━━━━━━━━━━━━━━━━━━━\u001b[0m \u001b[32m194.8/194.8 kB\u001b[0m \u001b[31m11.2 MB/s\u001b[0m eta \u001b[36m0:00:00\u001b[0m\n",
            "\u001b[2K   \u001b[90m━━━━━━━━━━━━━━━━━━━━━━━━━━━━━━━━━━━━━━━━\u001b[0m \u001b[32m50.9/50.9 kB\u001b[0m \u001b[31m3.6 MB/s\u001b[0m eta \u001b[36m0:00:00\u001b[0m\n",
            "\u001b[2K   \u001b[90m━━━━━━━━━━━━━━━━━━━━━━━━━━━━━━━━━━━━━━━━\u001b[0m \u001b[32m223.6/223.6 kB\u001b[0m \u001b[31m11.4 MB/s\u001b[0m eta \u001b[36m0:00:00\u001b[0m\n",
            "\u001b[?25h"
          ]
        }
      ]
    },
    {
      "cell_type": "code",
      "source": [
        "import os\n",
        "import getpass\n",
        "\n",
        "if \"OPENAI_API_KEY\" not in os.environ:\n",
        "    os.environ[\"OPENAI_API_KEY\"] = getpass.getpass(\"Enter your OpenAI API key: \")"
      ],
      "metadata": {
        "id": "1D3Zr3jMhydH"
      },
      "execution_count": null,
      "outputs": []
    },
    {
      "cell_type": "code",
      "source": [
        "# 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\n",
        "import os\n",
        "import getpass\n",
        "\n",
        "os.environ[\"LANGCHAIN_TRACING_V2\"] = \"true\"\n",
        "os.environ[\"LANGCHAIN_ENDPOINT\"] = \"https://api.smith.langchain.com\"\n",
        "os.environ[\"LANGCHAIN_API_KEY\"] = \"\""
      ],
      "metadata": {
        "id": "9u62kEFgGJ3u"
      },
      "execution_count": null,
      "outputs": []
    },
    {
      "cell_type": "code",
      "source": [
        "# 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\n",
        "if \"TAVILY_API_KEY\" not in os.environ:\n",
        "    os.environ[\"TAVILY_API_KEY\"] = getpass.getpass(\"Enter your TavilySearch API key: \")"
      ],
      "metadata": {
        "colab": {
          "base_uri": "https://localhost:8080/"
        },
        "id": "JPOQRhhTh07n",
        "outputId": "6999d4c7-052d-479d-bbea-49f250bcce24"
      },
      "execution_count": null,
      "outputs": [
        {
          "name": "stdout",
          "output_type": "stream",
          "text": [
            "Enter your TavilySearch API key: ··········\n"
          ]
        }
      ]
    },
    {
      "cell_type": "code",
      "source": [
        "# 73c2ab70e974c13a080c5133cc544990\n",
        "os.environ[\"OPENWEATHERMAP_API_KEY\"] = \"\""
      ],
      "metadata": {
        "id": "3EgifqM9iMCp"
      },
      "execution_count": null,
      "outputs": []
    },
    {
      "cell_type": "code",
      "source": [
        "from langchain_core.tools import tool\n",
        "from langchain_community.tools.tavily_search import TavilySearchResults\n",
        "from langchain_community.utilities import OpenWeatherMapAPIWrapper\n",
        "\n",
        "@tool\n",
        "def get_weather(location: str):\n",
        "    \"\"\"Call to get the current weather.\"\"\"\n",
        "    # Documentation: https://python.langchain.com/docs/integrations/tools/openweathermap/\n",
        "    weather = OpenWeatherMapAPIWrapper()\n",
        "    weather_data = weather.run(location)\n",
        "    print(weather_data)\n",
        "    return weather_data\n",
        "\n",
        "search_engine = TavilySearchResults(max_results=2)\n",
        "\n",
        "tools = [search_engine, get_weather]\n",
        "\n",
        "\n",
        "\n",
        "from langchain_openai import ChatOpenAI\n",
        "\n",
        "llm = ChatOpenAI(model=\"gpt-4o-mini\")\n",
        "# Modification: tell the LLM which tools it can call\n",
        "llm_with_tools = llm.bind_tools(tools) # the large language model should come up with arguments to be passed to one of the tools\n",
        "\n",
        "\n",
        "# Example adapted from https://langchain-ai.github.io/langgraph/how-tos/tool-calling/#react-agent\n",
        "\n",
        "# https://langchain-ai.github.io/langgraph/concepts/low_level/#messagesstate\n",
        "from langgraph.graph import StateGraph, MessagesState, START, END\n",
        "from langgraph.prebuilt import ToolNode\n",
        "\n",
        "tool_node = ToolNode(tools)\n",
        "\n",
        "def call_model(state: MessagesState):\n",
        "    messages = state[\"messages\"]\n",
        "    response = llm_with_tools.invoke(messages)\n",
        "    return {\"messages\": [response]}\n",
        "\n",
        "def should_continue(state: MessagesState):\n",
        "    messages = state[\"messages\"]\n",
        "    last_message = messages[-1]\n",
        "    if last_message.tool_calls:\n",
        "        return \"tools\"\n",
        "    return END\n",
        "\n",
        "workflow = StateGraph(MessagesState)\n",
        "\n",
        "# Define the two nodes we will cycle between\n",
        "workflow.add_node(\"agent\", call_model)\n",
        "workflow.add_node(\"tools\", tool_node)\n",
        "\n",
        "workflow.add_edge(START, \"agent\")\n",
        "workflow.add_conditional_edges(\"agent\", should_continue, [\"tools\", END])\n",
        "workflow.add_edge(\"tools\", \"agent\")\n",
        "\n",
        "app = workflow.compile()"
      ],
      "metadata": {
        "id": "V9xTnuJNhdH9"
      },
      "execution_count": null,
      "outputs": []
    },
    {
      "cell_type": "code",
      "source": [
        "from IPython.display import Image, display\n",
        "\n",
        "try:\n",
        "    display(Image(app.get_graph().draw_mermaid_png()))\n",
        "except Exception:\n",
        "    # This requires some extra dependencies and is optional\n",
        "    pass"
      ],
      "metadata": {
        "id": "XV6gHhkNigtK",
        "colab": {
          "base_uri": "https://localhost:8080/",
          "height": 266
        },
        "outputId": "072039df-3369-4110-87b4-92445203d5d5"
      },
      "execution_count": null,
      "outputs": [
        {
          "output_type": "display_data",
          "data": {
            "image/png": "[encoded data removed]",
            "text/plain": [
              "<IPython.core.display.Image object>"
            ]
          },
          "metadata": {}
        }
      ]
    },
    {
      "cell_type": "markdown",
      "source": [
        "Example of map using geojson, folium and gradio"
      ],
      "metadata": {
        "id": "6KDsIwBqa5o1"
      }
    },
    {
      "cell_type": "code",
      "source": [
        "# This code was generated from ChatGPT and then modified to read a satisfactory execution\n",
        "import folium\n",
        "import gradio as gr\n",
        "import json\n",
        "\n",
        "# Sample GeoJSON data (you can replace this with your own)\n",
        "geojson_sample = {\n",
        "    \"type\": \"FeatureCollection\",\n",
        "    \"features\": [\n",
        "        {\n",
        "            \"type\": \"Feature\",\n",
        "            \"properties\": {\"name\": \"Sample Polygon\"},\n",
        "            \"geometry\": {\n",
        "                \"type\": \"Polygon\",\n",
        "                \"coordinates\": [\n",
        "                    [\n",
        "                        [-100.0, 40.0],\n",
        "                        [-105.0, 45.0],\n",
        "                        [-110.0, 40.0],\n",
        "                        [-100.0, 40.0]\n",
        "                    ]\n",
        "                ]\n",
        "            }\n",
        "        }\n",
        "    ]\n",
        "}\n",
        "\n",
        "def generate_map(geojson_data_str):\n",
        "    # Parse GeoJSON string\n",
        "    try:\n",
        "        geojson_data = json.loads(geojson_data_str)\n",
        "    except json.JSONDecodeError:\n",
        "        return \"Invalid GeoJSON input.\"\n",
        "\n",
        "    # Create a Folium map\n",
        "    m = folium.Map(location=[40, -100], zoom_start=4)\n",
        "\n",
        "    # Add GeoJSON layer\n",
        "    folium.GeoJson(geojson_data, name=\"geojson\").add_to(m)\n",
        "\n",
        "\n",
        "    return m._repr_html_()\n",
        "\n",
        "# Gradio interface\n",
        "interface = gr.Interface(\n",
        "    fn=generate_map,\n",
        "    inputs=gr.Textbox(label=\"Enter GeoJSON Data\", lines=10, placeholder=\"Paste your GeoJSON here...\"),\n",
        "    outputs=gr.HTML(label=\"Map Output\")\n",
        ")\n",
        "\n",
        "if __name__ == \"__main__\":\n",
        "    interface.launch(debug=True)"
      ],
      "metadata": {
        "id": "0-oPOyz7TAD9"
      },
      "execution_count": null,
      "outputs": []
    },
    {
      "cell_type": "markdown",
      "source": [
        "Image input + Digit recognition + Verbalization as text + Display on a map"
      ],
      "metadata": {
        "id": "zVm2mqH-a_3U"
      }
    },
    {
      "cell_type": "code",
      "source": [
        "!pip install gradio"
      ],
      "metadata": {
        "id": "YE-9LivimiBH",
        "colab": {
          "base_uri": "https://localhost:8080/"
        },
        "outputId": "91f9027b-8e3a-42f4-f645-2eb84d5f182b"
      },
      "execution_count": null,
      "outputs": [
        {
          "output_type": "stream",
          "name": "stdout",
          "text": [
            "Collecting gradio\n",
            "  Downloading gradio-5.26.0-py3-none-any.whl.metadata (16 kB)\n",
            "Collecting aiofiles<25.0,>=22.0 (from gradio)\n",
            "  Downloading aiofiles-24.1.0-py3-none-any.whl.metadata (10 kB)\n",
            "Requirement already satisfied: anyio<5.0,>=3.0 in /usr/local/lib/python3.11/dist-packages (from gradio) (4.9.0)\n",
            "Collecting fastapi<1.0,>=0.115.2 (from gradio)\n",
            "  Downloading fastapi-0.115.12-py3-none-any.whl.metadata (27 kB)\n",
            "Collecting ffmpy (from gradio)\n",
            "  Downloading ffmpy-0.5.0-py3-none-any.whl.metadata (3.0 kB)\n",
            "Collecting gradio-client==1.9.0 (from gradio)\n",
            "  Downloading gradio_client-1.9.0-py3-none-any.whl.metadata (7.1 kB)\n",
            "Collecting groovy~=0.1 (from gradio)\n",
            "  Downloading groovy-0.1.2-py3-none-any.whl.metadata (6.1 kB)\n",
            "Requirement already satisfied: httpx>=0.24.1 in /usr/local/lib/python3.11/dist-packages (from gradio) (0.28.1)\n",
            "Requirement already satisfied: huggingface-hub>=0.28.1 in /usr/local/lib/python3.11/dist-packages (from gradio) (0.30.2)\n",
            "Requirement already satisfied: jinja2<4.0 in /usr/local/lib/python3.11/dist-packages (from gradio) (3.1.6)\n",
            "Requirement already satisfied: markupsafe<4.0,>=2.0 in /usr/local/lib/python3.11/dist-packages (from gradio) (3.0.2)\n",
            "Requirement already satisfied: numpy<3.0,>=1.0 in /usr/local/lib/python3.11/dist-packages (from gradio) (2.0.2)\n",
            "Requirement already satisfied: orjson~=3.0 in /usr/local/lib/python3.11/dist-packages (from gradio) (3.10.16)\n",
            "Requirement already satisfied: packaging in /usr/local/lib/python3.11/dist-packages (from gradio) (24.2)\n",
            "Requirement already satisfied: pandas<3.0,>=1.0 in /usr/local/lib/python3.11/dist-packages (from gradio) (2.2.2)\n",
            "Requirement already satisfied: pillow<12.0,>=8.0 in /usr/local/lib/python3.11/dist-packages (from gradio) (11.1.0)\n",
            "Requirement already satisfied: pydantic<2.12,>=2.0 in /usr/local/lib/python3.11/dist-packages (from gradio) (2.11.3)\n",
            "Collecting pydub (from gradio)\n",
            "  Downloading pydub-0.25.1-py2.py3-none-any.whl.metadata (1.4 kB)\n",
            "Collecting python-multipart>=0.0.18 (from gradio)\n",
            "  Downloading python_multipart-0.0.20-py3-none-any.whl.metadata (1.8 kB)\n",
            "Requirement already satisfied: pyyaml<7.0,>=5.0 in /usr/local/lib/python3.11/dist-packages (from gradio) (6.0.2)\n",
            "Collecting ruff>=0.9.3 (from gradio)\n",
            "  Downloading ruff-0.11.7-py3-none-manylinux_2_17_x86_64.manylinux2014_x86_64.whl.metadata (25 kB)\n",
            "Collecting safehttpx<0.2.0,>=0.1.6 (from gradio)\n",
            "  Downloading safehttpx-0.1.6-py3-none-any.whl.metadata (4.2 kB)\n",
            "Collecting semantic-version~=2.0 (from gradio)\n",
            "  Downloading semantic_version-2.10.0-py2.py3-none-any.whl.metadata (9.7 kB)\n",
            "Collecting starlette<1.0,>=0.40.0 (from gradio)\n",
            "  Downloading starlette-0.46.2-py3-none-any.whl.metadata (6.2 kB)\n",
            "Collecting tomlkit<0.14.0,>=0.12.0 (from gradio)\n",
            "  Downloading tomlkit-0.13.2-py3-none-any.whl.metadata (2.7 kB)\n",
            "Requirement already satisfied: typer<1.0,>=0.12 in /usr/local/lib/python3.11/dist-packages (from gradio) (0.15.2)\n",
            "Requirement already satisfied: typing-extensions~=4.0 in /usr/local/lib/python3.11/dist-packages (from gradio) (4.13.2)\n",
            "Collecting uvicorn>=0.14.0 (from gradio)\n",
            "  Downloading uvicorn-0.34.2-py3-none-any.whl.metadata (6.5 kB)\n",
            "Requirement already satisfied: fsspec in /usr/local/lib/python3.11/dist-packages (from gradio-client==1.9.0->gradio) (2025.3.2)\n",
            "Requirement already satisfied: websockets<16.0,>=10.0 in /usr/local/lib/python3.11/dist-packages (from gradio-client==1.9.0->gradio) (15.0.1)\n",
            "Requirement already satisfied: idna>=2.8 in /usr/local/lib/python3.11/dist-packages (from anyio<5.0,>=3.0->gradio) (3.10)\n",
            "Requirement already satisfied: sniffio>=1.1 in /usr/local/lib/python3.11/dist-packages (from anyio<5.0,>=3.0->gradio) (1.3.1)\n",
            "Requirement already satisfied: certifi in /usr/local/lib/python3.11/dist-packages (from httpx>=0.24.1->gradio) (2025.1.31)\n",
            "Requirement already satisfied: httpcore==1.* in /usr/local/lib/python3.11/dist-packages (from httpx>=0.24.1->gradio) (1.0.8)\n",
            "Requirement already satisfied: h11<0.15,>=0.13 in /usr/local/lib/python3.11/dist-packages (from httpcore==1.*->httpx>=0.24.1->gradio) (0.14.0)\n",
            "Requirement already satisfied: filelock in /usr/local/lib/python3.11/dist-packages (from huggingface-hub>=0.28.1->gradio) (3.18.0)\n",
            "Requirement already satisfied: requests in /usr/local/lib/python3.11/dist-packages (from huggingface-hub>=0.28.1->gradio) (2.32.3)\n",
            "Requirement already satisfied: tqdm>=4.42.1 in /usr/local/lib/python3.11/dist-packages (from huggingface-hub>=0.28.1->gradio) (4.67.1)\n",
            "Requirement already satisfied: python-dateutil>=2.8.2 in /usr/local/lib/python3.11/dist-packages (from pandas<3.0,>=1.0->gradio) (2.8.2)\n",
            "Requirement already satisfied: pytz>=2020.1 in /usr/local/lib/python3.11/dist-packages (from pandas<3.0,>=1.0->gradio) (2025.2)\n",
            "Requirement already satisfied: tzdata>=2022.7 in /usr/local/lib/python3.11/dist-packages (from pandas<3.0,>=1.0->gradio) (2025.2)\n",
            "Requirement already satisfied: annotated-types>=0.6.0 in /usr/local/lib/python3.11/dist-packages (from pydantic<2.12,>=2.0->gradio) (0.7.0)\n",
            "Requirement already satisfied: pydantic-core==2.33.1 in /usr/local/lib/python3.11/dist-packages (from pydantic<2.12,>=2.0->gradio) (2.33.1)\n",
            "Requirement already satisfied: typing-inspection>=0.4.0 in /usr/local/lib/python3.11/dist-packages (from pydantic<2.12,>=2.0->gradio) (0.4.0)\n",
            "Requirement already satisfied: click>=8.0.0 in /usr/local/lib/python3.11/dist-packages (from typer<1.0,>=0.12->gradio) (8.1.8)\n",
            "Requirement already satisfied: shellingham>=1.3.0 in /usr/local/lib/python3.11/dist-packages (from typer<1.0,>=0.12->gradio) (1.5.4)\n",
            "Requirement already satisfied: rich>=10.11.0 in /usr/local/lib/python3.11/dist-packages (from typer<1.0,>=0.12->gradio) (13.9.4)\n",
            "Requirement already satisfied: six>=1.5 in /usr/local/lib/python3.11/dist-packages (from python-dateutil>=2.8.2->pandas<3.0,>=1.0->gradio) (1.17.0)\n",
            "Requirement already satisfied: markdown-it-py>=2.2.0 in /usr/local/lib/python3.11/dist-packages (from rich>=10.11.0->typer<1.0,>=0.12->gradio) (3.0.0)\n",
            "Requirement already satisfied: pygments<3.0.0,>=2.13.0 in /usr/local/lib/python3.11/dist-packages (from rich>=10.11.0->typer<1.0,>=0.12->gradio) (2.18.0)\n",
            "Requirement already satisfied: charset-normalizer<4,>=2 in /usr/local/lib/python3.11/dist-packages (from requests->huggingface-hub>=0.28.1->gradio) (3.4.1)\n",
            "Requirement already satisfied: urllib3<3,>=1.21.1 in /usr/local/lib/python3.11/dist-packages (from requests->huggingface-hub>=0.28.1->gradio) (2.3.0)\n",
            "Requirement already satisfied: mdurl~=0.1 in /usr/local/lib/python3.11/dist-packages (from markdown-it-py>=2.2.0->rich>=10.11.0->typer<1.0,>=0.12->gradio) (0.1.2)\n",
            "Downloading gradio-5.26.0-py3-none-any.whl (46.9 MB)\n",
            "\u001b[2K   \u001b[90m━━━━━━━━━━━━━━━━━━━━━━━━━━━━━━━━━━━━━━━━\u001b[0m \u001b[32m46.9/46.9 MB\u001b[0m \u001b[31m22.4 MB/s\u001b[0m eta \u001b[36m0:00:00\u001b[0m\n",
            "\u001b[?25hDownloading gradio_client-1.9.0-py3-none-any.whl (322 kB)\n",
            "\u001b[2K   \u001b[90m━━━━━━━━━━━━━━━━━━━━━━━━━━━━━━━━━━━━━━━━\u001b[0m \u001b[32m322.6/322.6 kB\u001b[0m \u001b[31m20.4 MB/s\u001b[0m eta \u001b[36m0:00:00\u001b[0m\n",
            "\u001b[?25hDownloading aiofiles-24.1.0-py3-none-any.whl (15 kB)\n",
            "Downloading fastapi-0.115.12-py3-none-any.whl (95 kB)\n",
            "\u001b[2K   \u001b[90m━━━━━━━━━━━━━━━━━━━━━━━━━━━━━━━━━━━━━━━━\u001b[0m \u001b[32m95.2/95.2 kB\u001b[0m \u001b[31m8.1 MB/s\u001b[0m eta \u001b[36m0:00:00\u001b[0m\n",
            "\u001b[?25hDownloading groovy-0.1.2-py3-none-any.whl (14 kB)\n",
            "Downloading python_multipart-0.0.20-py3-none-any.whl (24 kB)\n",
            "Downloading ruff-0.11.7-py3-none-manylinux_2_17_x86_64.manylinux2014_x86_64.whl (11.5 MB)\n",
            "\u001b[2K   \u001b[90m━━━━━━━━━━━━━━━━━━━━━━━━━━━━━━━━━━━━━━━━\u001b[0m \u001b[32m11.5/11.5 MB\u001b[0m \u001b[31m113.3 MB/s\u001b[0m eta \u001b[36m0:00:00\u001b[0m\n",
            "\u001b[?25hDownloading safehttpx-0.1.6-py3-none-any.whl (8.7 kB)\n",
            "Downloading semantic_version-2.10.0-py2.py3-none-any.whl (15 kB)\n",
            "Downloading starlette-0.46.2-py3-none-any.whl (72 kB)\n",
            "\u001b[2K   \u001b[90m━━━━━━━━━━━━━━━━━━━━━━━━━━━━━━━━━━━━━━━━\u001b[0m \u001b[32m72.0/72.0 kB\u001b[0m \u001b[31m5.7 MB/s\u001b[0m eta \u001b[36m0:00:00\u001b[0m\n",
            "\u001b[?25hDownloading tomlkit-0.13.2-py3-none-any.whl (37 kB)\n",
            "Downloading uvicorn-0.34.2-py3-none-any.whl (62 kB)\n",
            "\u001b[2K   \u001b[90m━━━━━━━━━━━━━━━━━━━━━━━━━━━━━━━━━━━━━━━━\u001b[0m \u001b[32m62.5/62.5 kB\u001b[0m \u001b[31m5.1 MB/s\u001b[0m eta \u001b[36m0:00:00\u001b[0m\n",
            "\u001b[?25hDownloading ffmpy-0.5.0-py3-none-any.whl (6.0 kB)\n",
            "Downloading pydub-0.25.1-py2.py3-none-any.whl (32 kB)\n",
            "Installing collected packages: pydub, uvicorn, tomlkit, semantic-version, ruff, python-multipart, groovy, ffmpy, aiofiles, starlette, safehttpx, gradio-client, fastapi, gradio\n",
            "Successfully installed aiofiles-24.1.0 fastapi-0.115.12 ffmpy-0.5.0 gradio-5.26.0 gradio-client-1.9.0 groovy-0.1.2 pydub-0.25.1 python-multipart-0.0.20 ruff-0.11.7 safehttpx-0.1.6 semantic-version-2.10.0 starlette-0.46.2 tomlkit-0.13.2 uvicorn-0.34.2\n"
          ]
        }
      ]
    },
    {
      "cell_type": "code",
      "source": [
        "import torch\n",
        "import torch.nn as nn\n",
        "import torch.nn.functional as F\n",
        "import torch.optim as optim\n",
        "import matplotlib.pyplot as plt\n",
        "\n",
        "import numpy as np\n",
        "from scipy.spatial.distance import cdist\n",
        "\n",
        "class GraphNet(nn.Module):\n",
        "    def __init__(self, img_size=28, pred_edge=False):\n",
        "        super(GraphNet, self).__init__()\n",
        "        self.pred_edge = pred_edge\n",
        "        N = img_size * img_size\n",
        "        self.fc = nn.Linear(N, 10, bias=False)\n",
        "        if pred_edge:\n",
        "            col, row = np.meshgrid(np.arange(img_size), np.arange(img_size))\n",
        "            coord = np.stack((col, row), axis=2).reshape(-1, 2)\n",
        "            coord = (coord - np.mean(coord, axis=0)) / (np.std(coord, axis=0) + 1e-5)\n",
        "            coord = torch.from_numpy(coord).float()  # 784,2\n",
        "            coord = torch.cat((coord.unsqueeze(0).repeat(N, 1,  1),\n",
        "                                    coord.unsqueeze(1).repeat(1, N, 1)), dim=2)\n",
        "            #coord = torch.abs(coord[:, :, [0, 1]] - coord[:, :, [2, 3]])\n",
        "            self.pred_edge_fc = nn.Sequential(nn.Linear(4, 64),\n",
        "                                              nn.ReLU(),\n",
        "                                              nn.Linear(64, 1),\n",
        "                                              nn.Tanh())\n",
        "            self.register_buffer('coord', coord)\n",
        "        else:\n",
        "            # precompute adjacency matrix before training\n",
        "            A = self.precompute_adjacency_images(img_size)\n",
        "            self.register_buffer('A', A)\n",
        "\n",
        "\n",
        "    @staticmethod\n",
        "    def precompute_adjacency_images(img_size):\n",
        "        col, row = np.meshgrid(np.arange(img_size), np.arange(img_size))\n",
        "        coord = np.stack((col, row), axis=2).reshape(-1, 2) / img_size\n",
        "        dist = cdist(coord, coord)\n",
        "        sigma = 0.05 * np.pi\n",
        "\n",
        "        A = np.exp(- dist / sigma ** 2)\n",
        "\n",
        "        A[A < 0.01] = 0\n",
        "        A = torch.from_numpy(A).float()\n",
        "\n",
        "        # Normalization as per (Kipf & Welling, ICLR 2017)\n",
        "        D = A.sum(1)  # nodes degree (N,)\n",
        "        D_hat = (D + 1e-5) ** (-0.5)\n",
        "        A_hat = D_hat.view(-1, 1) * A * D_hat.view(1, -1)  # N,N\n",
        "\n",
        "        # Some additional trick I found to be useful\n",
        "        A_hat[A_hat > 0.0001] = A_hat[A_hat > 0.0001] - 0.2\n",
        "\n",
        "        #print(A_hat[:10, :10])\n",
        "        return A_hat\n",
        "\n",
        "    def forward(self, x):\n",
        "        B = x.size(0)\n",
        "        if self.pred_edge:\n",
        "            self.A = self.pred_edge_fc(self.coord).squeeze()\n",
        "\n",
        "        avg_neighbor_features = (torch.bmm(self.A.unsqueeze(0).expand(B, -1, -1),\n",
        "                                 x.view(B, -1, 1)).view(B, -1))\n",
        "        return self.fc(avg_neighbor_features)"
      ],
      "metadata": {
        "id": "zuNRliFcm16G"
      },
      "execution_count": null,
      "outputs": []
    },
    {
      "cell_type": "code",
      "source": [
        "import folium\n",
        "\n",
        "\n",
        "def verbalize (outcome):\n",
        "  prompt = \"\"\"\n",
        "\n",
        "  You are an assistant specialized into turning information from a json input into some nice text.\n",
        "\n",
        "  The first value stands for a predicted class and the second value stands for the probability.\n",
        "\n",
        "  Turn the following input into a nice text:\n",
        "\n",
        "  \"\"\"\n",
        "  user_input = prompt + str(outcome)\n",
        "\n",
        "  result = app.invoke({\"messages\": [(\"human\", user_input)]})\n",
        "\n",
        "  return result[\"messages\"][-1].content\n",
        "\n",
        "def show_on_map (outcome):\n",
        "\n",
        "  prompt = \"\"\"\n",
        "\n",
        "  You are an assistant specialized into returning information about the closest cities to the city of Dresden, Germany.\n",
        "\n",
        "  The output should be formatted as geojson. Return their coordinates, the distance in km and the temperature values of these cities.\n",
        "\n",
        "  Do not add any additional text to the output. The ouput should start and finish with {} as expected of a properly-formatted geojson.\n",
        "\n",
        "  Do not add ```json.\n",
        "\n",
        "  Key for cities: 'city'\n",
        "\n",
        "  Key for distance: 'distance_km'\n",
        "\n",
        "  Key for temperature: 'temperature_c'\n",
        "\n",
        "  Number of cities:\n",
        "\n",
        "  \"\"\"\n",
        "  print(\"*** Current number of cities: \", list(outcome.keys())[0])\n",
        "  user_input = prompt + str(list(outcome.keys())[0]) # https://stackoverflow.com/a/77694283\n",
        "\n",
        "  result = app.invoke({\"messages\": [(\"human\", user_input)]})\n",
        "  print(\"***LLM-generated coordinates: \", result[\"messages\"][-1].content)\n",
        "\n",
        "  data = json.loads(result[\"messages\"][-1].content)\n",
        "  print(\"***Data for map: \", data)\n",
        "  m = folium.Map(location=(51.05, 13.73)) # for alternatives, see https://leafmap.org/get-started/\n",
        "\n",
        "  folium.GeoJson(data,\n",
        "                tooltip=folium.GeoJsonTooltip(fields=[\"city\", \"distance_km\", \"temperature_c\"]),\n",
        "                popup=folium.GeoJsonPopup(fields=[\"city\", \"distance_km\", \"temperature_c\"])\n",
        "                ).add_to(m)\n",
        "\n",
        "  folium.Marker(\n",
        "      location=[51.049259, 13.73836],\n",
        "      tooltip=\"Dresden\",\n",
        "      popup=\"Dresden\",\n",
        "      icon=folium.Icon(color=\"green\"),\n",
        "  ).add_to(m)\n",
        "\n",
        "  return m._repr_html_()"
      ],
      "metadata": {
        "id": "EawX31oxk4Ik"
      },
      "execution_count": null,
      "outputs": []
    },
    {
      "cell_type": "code",
      "source": [],
      "metadata": {
        "id": "WoARlfx0awUg"
      },
      "execution_count": null,
      "outputs": []
    },
    {
      "cell_type": "code",
      "source": [
        "import cv2\n",
        "from torchvision import transforms\n",
        "from torchvision.transforms import v2\n",
        "import numpy as np\n",
        "import gradio as gr\n",
        "from PIL import Image\n",
        "import json\n",
        "\n",
        "\n",
        "## Function definition\n",
        "def transform_image(image):\n",
        "  transf = v2.Compose([\n",
        "              transforms.Grayscale(num_output_channels=1),\n",
        "              transforms.Resize((28, 28)),\n",
        "              transforms.ToTensor(),\n",
        "              transforms.Normalize((0.1307,), (0.3081,))\n",
        "               ])\n",
        "\n",
        "  return transf(image)\n",
        "\n",
        "def predict_digit(image, trained_model):\n",
        "\n",
        "  outputs = trained_model(image)\n",
        " # print(outputs)\n",
        "\n",
        "  probabilities = torch.nn.functional.softmax(outputs[0], dim=0)\n",
        " # print(probabilities)\n",
        "\n",
        "  # https://www.youtube.com/watch?v=a8aS3ZYlzDM\n",
        "  values, indices = torch.topk(probabilities, 5)\n",
        "\n",
        "  labels = [\"0\", \"1\", \"2\", \"3\", \"4\", \"5\", \"6\", \"7\", \"8\", \"9\"]\n",
        "\n",
        "  return {labels[i]:v.item() for i, v in zip(indices, values)}\n",
        "\n",
        "def recognize_digit(image):\n",
        "  if image is None:\n",
        "    return None, \"No Prediction\", \"Please upload an image.\", None # Default values for no image\n",
        "  else:\n",
        "    pil_img = Image.fromarray(image[\"composite\"])\n",
        "    inv = transforms.functional.invert(pil_img)\n",
        "    outcome = predict_digit(transform_image(inv), trained_model)\n",
        "    print(\"** Digit recognition outcome: \", outcome)\n",
        "    print(\"** Type of the outcome: \", type(outcome))\n",
        "    outcome_as_text = verbalize (outcome)\n",
        "    outcome_on_map = show_on_map (outcome)\n",
        "    return image[\"composite\"], outcome, outcome_as_text, outcome_on_map\n",
        "\n",
        "\n",
        "## Function use\n",
        "\n",
        "trained_model = GraphNet()\n",
        "checkpoint_path = '/content/my_mnist_model_graph.pt'\n",
        "\n",
        "# load the weights of the trained model\n",
        "checkpoint = torch.load(checkpoint_path, weights_only=True)\n",
        "trained_model.load_state_dict(checkpoint)\n",
        "\n",
        "\n",
        "with gr.Blocks() as demo:\n",
        "    with gr.Row(equal_height=True):\n",
        "        im_input = gr.ImageEditor(type=\"numpy\", image_mode=\"L\", crop_size=\"1:1\", label=\"Input Image Component\") # Sketchpad, ImageEditor\n",
        "        im_preview = gr.Image(label=\"Output Image Component\")\n",
        "        predicted_label = gr.Label(label=\"Class predictions\")\n",
        "    with gr.Row():\n",
        "        text_box = gr.TextArea(label =\"Predictions as text\")\n",
        "    with gr.Row():\n",
        "        map_component = gr.HTML(label=\"Map Output\")\n",
        "\n",
        "    im_input.upload(recognize_digit, outputs=[im_preview, predicted_label, text_box, map_component], inputs=im_input, show_progress=\"full\")\n",
        "    #im_input.change(recognize_digit, outputs=[im_preview, predicted_label, text_box, map_component], inputs=im_input, show_progress=\"full\")\n",
        "\n",
        "demo.launch(debug=True)"
      ],
      "metadata": {
        "colab": {
          "base_uri": "https://localhost:8080/",
          "height": 1000
        },
        "id": "v00rAbW8Kiei",
        "outputId": "0ef8618a-34f7-4148-f421-31798407d18e"
      },
      "execution_count": null,
      "outputs": [
        {
          "output_type": "stream",
          "name": "stdout",
          "text": [
            "It looks like you are running Gradio on a hosted a Jupyter notebook. For the Gradio app to work, sharing must be enabled. Automatically setting `share=True` (you can turn this off by setting `share=False` in `launch()` explicitly).\n",
            "\n",
            "Colab notebook detected. This cell will run indefinitely so that you can see errors and logs. To turn off, set debug=False in launch().\n",
            "* Running on public URL: https://47f39d052d4f6350b4.gradio.live\n",
            "\n",
            "This share link expires in 1 week. For free permanent hosting and GPU upgrades, run `gradio deploy` from the terminal in the working directory to deploy to Hugging Face Spaces (https://huggingface.co/spaces)\n"
          ]
        },
        {
          "output_type": "display_data",
          "data": {
            "text/plain": [
              "<IPython.core.display.HTML object>"
            ],
            "text/html": [
              "<div><iframe src=\"https://47f39d052d4f6350b4.gradio.live\" width=\"100%\" height=\"500\" allow=\"autoplay; camera; microphone; clipboard-read; clipboard-write;\" frameborder=\"0\" allowfullscreen></iframe></div>"
            ]
          },
          "metadata": {}
        },
        {
          "output_type": "stream",
          "name": "stdout",
          "text": [
            "** Digit recognition outcome:  {'4': 0.5915224552154541, '9': 0.18638725578784943, '6': 0.12957772612571716, '5': 0.04414290934801102, '7': 0.014780444093048573}\n",
            "** Type of the outcome:  <class 'dict'>\n",
            "*** Current number of cities:  4\n",
            "In Leipzig, Germany, the current weather is as follows:\n",
            "Detailed status: overcast clouds\n",
            "Wind speed: 5.66 m/s, direction: 360°\n",
            "Humidity: 87%\n",
            "Temperature: \n",
            "  - Current: 10.07°C\n",
            "  - High: 10.11°C\n",
            "  - Low: 9.49°C\n",
            "  - Feels like: 9.4°C\n",
            "Rain: {}\n",
            "Heat index: None\n",
            "Cloud cover: 100%\n",
            "In Halle, Germany, the current weather is as follows:\n",
            "Detailed status: overcast clouds\n",
            "Wind speed: 5.66 m/s, direction: 360°\n",
            "Humidity: 84%\n",
            "Temperature: \n",
            "  - Current: 10.01°C\n",
            "  - High: 10.46°C\n",
            "  - Low: 9.39°C\n",
            "  - Feels like: 9.26°C\n",
            "Rain: {}\n",
            "Heat index: None\n",
            "Cloud cover: 100%\n",
            "In Jena, Germany, the current weather is as follows:\n",
            "Detailed status: overcast clouds\n",
            "Wind speed: 1.34 m/s, direction: 16°\n",
            "Humidity: 96%\n",
            "Temperature: \n",
            "  - Current: 7.93°C\n",
            "  - High: 8.75°C\n",
            "  - Low: 7.53°C\n",
            "  - Feels like: 7.48°C\n",
            "Rain: {}\n",
            "Heat index: None\n",
            "Cloud cover: 100%\n",
            "In Cottbus, Germany, the current weather is as follows:\n",
            "Detailed status: overcast clouds\n",
            "Wind speed: 4.83 m/s, direction: 56°\n",
            "Humidity: 73%\n",
            "Temperature: \n",
            "  - Current: 13.67°C\n",
            "  - High: 13.67°C\n",
            "  - Low: 13.67°C\n",
            "  - Feels like: 13.0°C\n",
            "Rain: {}\n",
            "Heat index: None\n",
            "Cloud cover: 100%\n",
            "***LLM-generated coordinates:  {\n",
            "  \"type\": \"FeatureCollection\",\n",
            "  \"features\": [\n",
            "    {\n",
            "      \"type\": \"Feature\",\n",
            "      \"properties\": {\n",
            "        \"city\": \"Leipzig\",\n",
            "        \"distance_km\": 100,\n",
            "        \"temperature_c\": 10.07\n",
            "      },\n",
            "      \"geometry\": {\n",
            "        \"type\": \"Point\",\n",
            "        \"coordinates\": [12.3731, 51.3397]\n",
            "      }\n",
            "    },\n",
            "    {\n",
            "      \"type\": \"Feature\",\n",
            "      \"properties\": {\n",
            "        \"city\": \"Halle\",\n",
            "        \"distance_km\": 43,\n",
            "        \"temperature_c\": 10.01\n",
            "      },\n",
            "      \"geometry\": {\n",
            "        \"type\": \"Point\",\n",
            "        \"coordinates\": [11.9686, 51.4820]\n",
            "      }\n",
            "    },\n",
            "    {\n",
            "      \"type\": \"Feature\",\n",
            "      \"properties\": {\n",
            "        \"city\": \"Jena\",\n",
            "        \"distance_km\": 92,\n",
            "        \"temperature_c\": 7.93\n",
            "      },\n",
            "      \"geometry\": {\n",
            "        \"type\": \"Point\",\n",
            "        \"coordinates\": [50.9270, 50.9213]\n",
            "      }\n",
            "    },\n",
            "    {\n",
            "      \"type\": \"Feature\",\n",
            "      \"properties\": {\n",
            "        \"city\": \"Cottbus\",\n",
            "        \"distance_km\": 125,\n",
            "        \"temperature_c\": 13.67\n",
            "      },\n",
            "      \"geometry\": {\n",
            "        \"type\": \"Point\",\n",
            "        \"coordinates\": [14.3369, 51.7740]\n",
            "      }\n",
            "    }\n",
            "  ]\n",
            "}\n",
            "***Data for map:  {'type': 'FeatureCollection', 'features': [{'type': 'Feature', 'properties': {'city': 'Leipzig', 'distance_km': 100, 'temperature_c': 10.07}, 'geometry': {'type': 'Point', 'coordinates': [12.3731, 51.3397]}}, {'type': 'Feature', 'properties': {'city': 'Halle', 'distance_km': 43, 'temperature_c': 10.01}, 'geometry': {'type': 'Point', 'coordinates': [11.9686, 51.482]}}, {'type': 'Feature', 'properties': {'city': 'Jena', 'distance_km': 92, 'temperature_c': 7.93}, 'geometry': {'type': 'Point', 'coordinates': [50.927, 50.9213]}}, {'type': 'Feature', 'properties': {'city': 'Cottbus', 'distance_km': 125, 'temperature_c': 13.67}, 'geometry': {'type': 'Point', 'coordinates': [14.3369, 51.774]}}]}\n",
            "Keyboard interruption in main thread... closing server.\n",
            "Killing tunnel 127.0.0.1:7860 <> https://47f39d052d4f6350b4.gradio.live\n"
          ]
        },
        {
          "output_type": "execute_result",
          "data": {
            "text/plain": []
          },
          "metadata": {},
          "execution_count": 16
        }
      ]
    },
    {
      "cell_type": "markdown",
      "source": [
        "Example of correct geojson\n",
        "\n",
        "```javascript\n",
        "{\n",
        "  \"type\": \"FeatureCollection\",\n",
        "  \"features\": [\n",
        "    {\n",
        "      \"type\": \"Feature\",\n",
        "      \"properties\": {\n",
        "        \"city\": \"Chemnitz\",\n",
        "        \"distance_km\": 82,\n",
        "        \"temperature_c\": 10.37\n",
        "      },\n",
        "      \"geometry\": {\n",
        "        \"type\": \"Point\",\n",
        "        \"coordinates\": [12.9222, 50.8278]\n",
        "      }\n",
        "    },\n",
        "    {\n",
        "      \"type\": \"Feature\",\n",
        "      \"properties\": {\n",
        "        \"city\": \"Leipzig\",\n",
        "        \"distance_km\": 100,\n",
        "        \"temperature_c\": 16.06\n",
        "      },\n",
        "      \"geometry\": {\n",
        "        \"type\": \"Point\",\n",
        "        \"coordinates\": [12.3731, 51.3397]\n",
        "      }\n",
        "    },\n",
        "    {\n",
        "      \"type\": \"Feature\",\n",
        "      \"properties\": {\n",
        "        \"city\": \"Meissen\",\n",
        "        \"distance_km\": 25,\n",
        "        \"temperature_c\": 12.75\n",
        "      },\n",
        "      \"geometry\": {\n",
        "        \"type\": \"Point\",\n",
        "        \"coordinates\": [13.4809, 51.1605]\n",
        "      }\n",
        "    },\n",
        "    {\n",
        "      \"type\": \"Feature\",\n",
        "      \"properties\": {\n",
        "        \"city\": \"Cottbus\",\n",
        "        \"distance_km\": 113,\n",
        "        \"temperature_c\": 17.01\n",
        "      },\n",
        "      \"geometry\": {\n",
        "        \"type\": \"Point\",\n",
        "        \"coordinates\": [14.3423, 51.7592]\n",
        "      }\n",
        "    }\n",
        "  ]\n",
        "}\n",
        "```"
      ],
      "metadata": {
        "id": "tIpRTtECti1B"
      }
    },
    {
      "cell_type": "code",
      "source": [],
      "metadata": {
        "id": "4g3nPQZOw7qB"
      },
      "execution_count": null,
      "outputs": []
    },
    {
      "cell_type": "markdown",
      "source": [
        "# Chapter 2: DeepSeek"
      ],
      "metadata": {
        "id": "OMKqMftSpOCv"
      }
    },
    {
      "cell_type": "markdown",
      "source": [
        "This is a simple example to text map (code) generation using the Deepseek model"
      ],
      "metadata": {
        "id": "jkJn1qqRkriO"
      }
    },
    {
      "cell_type": "code",
      "source": [
        "# Please install OpenAI SDK first: `pip3 install openai`\n",
        "\n",
        "from openai import OpenAI\n",
        "\n",
        "client = OpenAI(api_key=\"\", base_url=\"https://api.deepseek.com\")\n",
        "\n",
        "response = client.chat.completions.create(\n",
        "    model=\"deepseek-chat\",\n",
        "    messages=[\n",
        "        {\"role\": \"system\", \"content\": \"You are a helpful assistant. Write a code in python to show a map using folium. The map should be centered on Dresden, Germany\"},\n",
        "        {\"role\": \"user\", \"content\": \"Hello\"},\n",
        "    ],\n",
        "    stream=False\n",
        ")\n",
        "\n",
        "print(response.choices[0].message.content)"
      ],
      "metadata": {
        "id": "duXZVA0opM5D"
      },
      "execution_count": null,
      "outputs": []
    },
    {
      "cell_type": "code",
      "source": [
        "import folium\n",
        "\n",
        "# Coordinates for Dresden, Germany\n",
        "dresden_coords = [51.0504, 13.7373]\n",
        "\n",
        "# Create a map centered on Dresden\n",
        "dresden_map = folium.Map(location=dresden_coords, zoom_start=13)\n",
        "\n",
        "# Add a marker for Dresden\n",
        "folium.Marker(\n",
        "    location=dresden_coords,\n",
        "    popup=\"Dresden, Germany\",\n",
        "    icon=folium.Icon(color=\"red\")\n",
        ").add_to(dresden_map)\n",
        "\n",
        "# Display the map\n",
        "dresden_map"
      ],
      "metadata": {
        "id": "Y2UZUWf99Hhj"
      },
      "execution_count": null,
      "outputs": []
    },
    {
      "cell_type": "code",
      "source": [
        "import folium\n",
        "\n",
        "# Create map with more features\n",
        "dresden_map = folium.Map(\n",
        "    location=[51.0504, 13.7373],\n",
        "    zoom_start=12,\n",
        "    #tiles='Stamen Terrain',\n",
        "    control_scale=True\n",
        ")\n",
        "\n",
        "# Add multiple markers\n",
        "landmarks = {\n",
        "    'Frauenkirche': [51.0518, 13.7416],\n",
        "    'Zwinger Palace': [51.0531, 13.7339],\n",
        "    'Semperoper': [51.0542, 13.7353]\n",
        "}\n",
        "\n",
        "for name, coords in landmarks.items():\n",
        "    folium.Marker(\n",
        "        location=coords,\n",
        "        popup=name,\n",
        "        icon=folium.Icon(color='blue')\n",
        "    ).add_to(dresden_map)\n",
        "\n",
        "# Add a circle around city center\n",
        "folium.Circle(\n",
        "    location=[51.0504, 13.7373],\n",
        "    radius=2000,\n",
        "    color='green',\n",
        "    fill=True,\n",
        "    fill_color='green',\n",
        "    fill_opacity=0.2,\n",
        "    popup='Central Dresden'\n",
        ").add_to(dresden_map)\n",
        "\n",
        "# Add layer control\n",
        "folium.LayerControl().add_to(dresden_map)\n",
        "\n",
        "#dresden_map.save('dresden_landmarks.html')\n",
        "dresden_map"
      ],
      "metadata": {
        "id": "ER6c-tDylFSS"
      },
      "execution_count": null,
      "outputs": []
    }
  ]
}